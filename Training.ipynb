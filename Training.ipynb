{
  "nbformat": 4,
  "nbformat_minor": 0,
  "metadata": {
    "colab": {
      "name": "Training.ipynb",
      "provenance": [],
      "collapsed_sections": [],
      "include_colab_link": true
    },
    "kernelspec": {
      "name": "python3",
      "display_name": "Python 3"
    },
    "language_info": {
      "name": "python"
    },
    "accelerator": "GPU"
  },
  "cells": [
    {
      "cell_type": "markdown",
      "metadata": {
        "id": "view-in-github",
        "colab_type": "text"
      },
      "source": [
        "<a href=\"https://colab.research.google.com/github/ramanipriya-26/Image_classifier-1-/blob/main/Training.ipynb\" target=\"_parent\"><img src=\"https://colab.research.google.com/assets/colab-badge.svg\" alt=\"Open In Colab\"/></a>"
      ]
    },
    {
      "cell_type": "code",
      "metadata": {
        "colab": {
          "base_uri": "https://localhost:8080/"
        },
        "id": "iJrgUDcAmPvx",
        "outputId": "30c73581-7bae-4649-f27c-a92b608d8731"
      },
      "source": [
        "pip install bing-image-downloader"
      ],
      "execution_count": null,
      "outputs": [
        {
          "output_type": "stream",
          "name": "stdout",
          "text": [
            "Collecting bing-image-downloader\n",
            "  Downloading bing_image_downloader-1.1.2-py3-none-any.whl (5.9 kB)\n",
            "Installing collected packages: bing-image-downloader\n",
            "Successfully installed bing-image-downloader-1.1.2\n"
          ]
        }
      ]
    },
    {
      "cell_type": "code",
      "source": [
        "from google.colab import drive\n",
        "drive.mount('/content/drive')"
      ],
      "metadata": {
        "colab": {
          "base_uri": "https://localhost:8080/"
        },
        "id": "dK8a-OWUCMNj",
        "outputId": "42bb054b-fc24-4ea5-9729-671ccb4a1b3c"
      },
      "execution_count": null,
      "outputs": [
        {
          "output_type": "stream",
          "name": "stdout",
          "text": [
            "Drive already mounted at /content/drive; to attempt to forcibly remount, call drive.mount(\"/content/drive\", force_remount=True).\n"
          ]
        }
      ]
    },
    {
      "cell_type": "code",
      "metadata": {
        "id": "MZFXqQk3lXlX",
        "colab": {
          "base_uri": "https://localhost:8080/"
        },
        "outputId": "4126e62f-fcde-4bf4-deb6-78b9479d8780"
      },
      "source": [
        "!mkdir images\n"
      ],
      "execution_count": null,
      "outputs": [
        {
          "output_type": "stream",
          "name": "stdout",
          "text": [
            "mkdir: cannot create directory ‘images’: File exists\n"
          ]
        }
      ]
    },
    {
      "cell_type": "code",
      "metadata": {
        "id": "yQ551tPKm7Cw"
      },
      "source": [
        "#from bing_image_downloader import downloader\n",
        "#downloader.download(\"pretty sunflower\",limit=30,output_dir=\"images\", adult_filter_off=True)"
      ],
      "execution_count": null,
      "outputs": []
    },
    {
      "cell_type": "code",
      "metadata": {
        "id": "jdgK-iS7n_Ft"
      },
      "source": [
        "#from bing_image_downloader import downloader\n",
        "#downloader.download(\"cats\",limit=30,output_dir=\"images\", adult_filter_off=True)"
      ],
      "execution_count": null,
      "outputs": []
    },
    {
      "cell_type": "code",
      "metadata": {
        "id": "0d1QI6sXo0s7"
      },
      "source": [
        "#from bing_image_downloader import downloader\n",
        "#downloader.download(\"roses\",limit=20,output_dir=\"images\", adult_filter_off=True)"
      ],
      "execution_count": null,
      "outputs": []
    },
    {
      "cell_type": "code",
      "metadata": {
        "id": "0lIwdcpx5RfB"
      },
      "source": [
        "#from bing_image_downloader import downloader\n",
        "#downloader.download(\"dogs\",limit=30,output_dir=\"images\", adult_filter_off=True)"
      ],
      "execution_count": null,
      "outputs": []
    },
    {
      "cell_type": "code",
      "metadata": {
        "id": "oKvaW99J5X0Q"
      },
      "source": [
        "#from bing_image_downloader import downloader\n",
        "#downloader.download(\"lotus\",limit=30,output_dir=\"images\", adult_filter_off=True)"
      ],
      "execution_count": null,
      "outputs": []
    },
    {
      "cell_type": "code",
      "metadata": {
        "id": "7LsiqimZ5fmi"
      },
      "source": [
        "#from bing_image_downloader import downloader\n",
        "#downloader.download(\"tiger\",limit=30,output_dir=\"images\", adult_filter_off=True)"
      ],
      "execution_count": null,
      "outputs": []
    },
    {
      "cell_type": "code",
      "metadata": {
        "id": "bk0HMTUV5o12"
      },
      "source": [
        "#from bing_image_downloader import downloader\n",
        "#downloader.download(\"lion\",limit=30,output_dir=\"images\", adult_filter_off=True)"
      ],
      "execution_count": null,
      "outputs": []
    },
    {
      "cell_type": "code",
      "metadata": {
        "colab": {
          "base_uri": "https://localhost:8080/"
        },
        "id": "t3LRy8A5raI5",
        "outputId": "aeecbcca-7d4e-4efb-a1c0-869655031d99"
      },
      "source": [
        "import numpy as np\n",
        "a=np.array([[1,2,3,4,5],[4,5,6,7,8]])\n",
        "a.ndim"
      ],
      "execution_count": null,
      "outputs": [
        {
          "output_type": "execute_result",
          "data": {
            "text/plain": [
              "2"
            ]
          },
          "metadata": {},
          "execution_count": 4
        }
      ]
    },
    {
      "cell_type": "code",
      "metadata": {
        "id": "BqW-ixtYru54"
      },
      "source": [
        ""
      ],
      "execution_count": null,
      "outputs": []
    },
    {
      "cell_type": "code",
      "metadata": {
        "colab": {
          "base_uri": "https://localhost:8080/"
        },
        "id": "JMZ7ZQczpArr",
        "outputId": "cc02e55c-6eb0-4408-8b50-8b1eed254815"
      },
      "source": [
        "#Preprocessing\n",
        "import tensorflow as tf\n",
        "import os\n",
        "import matplotlib.pyplot as plt\n",
        "import numpy as np\n",
        "from skimage.io import imread\n",
        "from skimage.transform import resize\n",
        "\n",
        "target=[]\n",
        "images=[]\n",
        "flat_data=[]\n",
        "\n",
        "DATADIR='/content/drive/MyDrive/Dataset'\n",
        "CATEGORIES=['cat','dog','lion','lotus','rose','sunflower','tiger','tulip','cheetahs','apple','banana','kiwi']\n",
        "\n",
        "for category in CATEGORIES:\n",
        "  class_num=CATEGORIES.index(category) #Label Encoding the values\n",
        "  path=os.path.join(DATADIR,category)\n",
        "  print(path)\n",
        "  for img in os.listdir(path):\n",
        "\n",
        "    img_array=imread(os.path.join(path,img))\n",
        "    \n",
        "    #plt.imshow(img_array)\n",
        "    img_resized=resize(img_array,(150,150,3))\n",
        "    flat_data.append(img_resized.flatten())\n",
        "    images.append(img_resized)\n",
        "    target.append(class_num)\n",
        "flat_data=np.array(flat_data)\n",
        "target=np.array(target)\n",
        "images=np.array(images)"
      ],
      "execution_count": null,
      "outputs": [
        {
          "output_type": "stream",
          "name": "stdout",
          "text": [
            "/content/drive/MyDrive/Dataset/cat\n",
            "/content/drive/MyDrive/Dataset/dog\n",
            "/content/drive/MyDrive/Dataset/lion\n",
            "/content/drive/MyDrive/Dataset/lotus\n",
            "/content/drive/MyDrive/Dataset/rose\n",
            "/content/drive/MyDrive/Dataset/sunflower\n",
            "/content/drive/MyDrive/Dataset/tiger\n",
            "/content/drive/MyDrive/Dataset/tulip\n",
            "/content/drive/MyDrive/Dataset/cheetahs\n",
            "/content/drive/MyDrive/Dataset/apple\n",
            "/content/drive/MyDrive/Dataset/banana\n",
            "/content/drive/MyDrive/Dataset/kiwi\n"
          ]
        }
      ]
    },
    {
      "cell_type": "code",
      "metadata": {
        "colab": {
          "base_uri": "https://localhost:8080/"
        },
        "id": "-DKhsxMWw4BY",
        "outputId": "76a0ed90-2ad4-4dd9-bfec-ab68eeb5bed4"
      },
      "source": [
        "target"
      ],
      "execution_count": null,
      "outputs": [
        {
          "output_type": "execute_result",
          "data": {
            "text/plain": [
              "array([ 0,  0,  0, ..., 11, 11, 11])"
            ]
          },
          "metadata": {},
          "execution_count": 6
        }
      ]
    },
    {
      "cell_type": "code",
      "metadata": {
        "colab": {
          "base_uri": "https://localhost:8080/"
        },
        "id": "-3-dI15pu7Xx",
        "outputId": "2c149d16-b5b0-4a52-8827-868370e301f8"
      },
      "source": [
        "flat_data"
      ],
      "execution_count": null,
      "outputs": [
        {
          "output_type": "execute_result",
          "data": {
            "text/plain": [
              "array([[0.53972305, 0.64786928, 0.83056209, ..., 0.67988479, 0.51125734,\n",
              "        0.30047059],\n",
              "       [0.43448366, 0.45801307, 0.41879739, ..., 0.05098039, 0.04705882,\n",
              "        0.03137255],\n",
              "       [0.62460131, 0.42314789, 0.28508253, ..., 0.11291503, 0.09395015,\n",
              "        0.07843137],\n",
              "       ...,\n",
              "       [1.        , 1.        , 1.        , ..., 1.        , 1.        ,\n",
              "        1.        ],\n",
              "       [0.2       , 0.23377259, 0.08950327, ..., 0.03529412, 0.05490196,\n",
              "        0.07058824],\n",
              "       [0.34539869, 0.38470588, 0.        , ..., 0.38      , 0.51755556,\n",
              "        0.09372549]])"
            ]
          },
          "metadata": {},
          "execution_count": 7
        }
      ]
    },
    {
      "cell_type": "code",
      "metadata": {
        "colab": {
          "base_uri": "https://localhost:8080/"
        },
        "id": "B5ZMH1tfRuLA",
        "outputId": "572d4835-73df-4674-e486-9ba887c8b8ff"
      },
      "source": [
        "target"
      ],
      "execution_count": null,
      "outputs": [
        {
          "output_type": "execute_result",
          "data": {
            "text/plain": [
              "array([ 0,  0,  0, ..., 11, 11, 11])"
            ]
          },
          "metadata": {},
          "execution_count": 8
        }
      ]
    },
    {
      "cell_type": "code",
      "metadata": {
        "colab": {
          "base_uri": "https://localhost:8080/",
          "height": 284
        },
        "id": "gqiMjiMEypur",
        "outputId": "b3ceaeab-e687-4ccb-a455-80a6b793216e"
      },
      "source": [
        "unique,count=np.unique(target,return_counts=True)\n",
        "plt.bar(CATEGORIES,count)"
      ],
      "execution_count": null,
      "outputs": [
        {
          "output_type": "execute_result",
          "data": {
            "text/plain": [
              "<BarContainer object of 12 artists>"
            ]
          },
          "metadata": {},
          "execution_count": 9
        },
        {
          "output_type": "display_data",
          "data": {
            "image/png": "[encoded data removed]",
            "text/plain": [
              "<Figure size 432x288 with 1 Axes>"
            ]
          },
          "metadata": {
            "needs_background": "light"
          }
        }
      ]
    },
    {
      "cell_type": "code",
      "metadata": {
        "id": "h22Z-BpNzqyy"
      },
      "source": [
        "#Split data in Training and Testing sets"
      ],
      "execution_count": null,
      "outputs": []
    },
    {
      "cell_type": "code",
      "metadata": {
        "id": "mrDBdr1AkiRa"
      },
      "source": [
        "import pandas as pd\n",
        "from sklearn.model_selection import train_test_split\n",
        "\n",
        "x_train,x_test,y_train,y_test=train_test_split(flat_data,target,test_size=.3)\n",
        "x_train,x_val,y_train,y_val=train_test_split(x_train,y_train,test_size=.3)"
      ],
      "execution_count": null,
      "outputs": []
    },
    {
      "cell_type": "code",
      "metadata": {
        "colab": {
          "base_uri": "https://localhost:8080/"
        },
        "id": "nboq0Hcp0mwN",
        "outputId": "b69e0c86-1063-4554-d699-9b68602e4f53"
      },
      "source": [
        "#Dimension of dataset\n",
        "\n",
        "print((x_train.shape,y_train.shape))\n",
        "print((x_val.shape,y_val.shape))\n",
        "print((x_test.shape,y_test.shape))"
      ],
      "execution_count": null,
      "outputs": [
        {
          "output_type": "stream",
          "name": "stdout",
          "text": [
            "((1641, 67500), (1641,))\n",
            "((704, 67500), (704,))\n",
            "((1005, 67500), (1005,))\n"
          ]
        }
      ]
    },
    {
      "cell_type": "code",
      "metadata": {
        "id": "g-WXQEUb1lDx"
      },
      "source": [
        "from tensorflow.keras.utils import to_categorical\n",
        "\n",
        "#One Hot Encoding\n",
        "y_train=to_categorical(y_train)\n",
        "y_val=to_categorical(y_val)\n",
        "y_test=to_categorical(y_test)"
      ],
      "execution_count": null,
      "outputs": []
    },
    {
      "cell_type": "code",
      "metadata": {
        "colab": {
          "base_uri": "https://localhost:8080/"
        },
        "id": "XsPJe3k62YMd",
        "outputId": "a8b56c8a-6914-44ab-db1d-17dc46259508"
      },
      "source": [
        "#verifying the dimension after one hot encoding\n",
        "\n",
        "print((x_train.shape,y_train.shape))\n",
        "print((x_val.shape,y_val.shape))\n",
        "print((x_test.shape,y_test.shape))"
      ],
      "execution_count": null,
      "outputs": [
        {
          "output_type": "stream",
          "name": "stdout",
          "text": [
            "((1641, 67500), (1641, 12))\n",
            "((704, 67500), (704, 12))\n",
            "((1005, 67500), (1005, 12))\n"
          ]
        }
      ]
    },
    {
      "cell_type": "code",
      "metadata": {
        "id": "wDoNIeyJ2nYf"
      },
      "source": [
        "import tensorflow as tf\n",
        "from tensorflow.keras.preprocessing.image import ImageDataGenerator\n",
        "from tensorflow.keras import Sequential\n",
        "from tensorflow.keras.applications import VGG19 #For Transfer Learning\n",
        "from tensorflow.keras.optimizers import SGD,Adam\n",
        "from tensorflow.keras.callbacks import ReduceLROnPlateau\n",
        "from tensorflow.keras.layers import Flatten,Dense,BatchNormalization,Activation,Dropout\n",
        "\n",
        "#Image Data Augmentation\n",
        "\n",
        "train_generator=ImageDataGenerator(rotation_range=2,horizontal_flip=True,width_shift_range=0.2,\n",
        "    height_shift_range=0.2,\n",
        "    validation_split=0.2, zoom_range=.1)\n",
        "val_generator = ImageDataGenerator(rotation_range=2, horizontal_flip=True,width_shift_range=0.2,\n",
        "    height_shift_range=0.2, zoom_range=.1)\n",
        "test_generator=ImageDataGenerator(rotation_range=2,horizontal_flip=True,width_shift_range=0.2,\n",
        "    height_shift_range=0.2,\n",
        "    validation_split=0.2, zoom_range=.1)\n",
        "\n",
        "#Fitting the augmentation defined above to the data\n",
        "\n",
        "train_generator.fit(x_train.reshape(1641,150,150,3))\n",
        "val_generator.fit(x_val.reshape(704,150,150,3))\n",
        "test_generator.fit(x_test.reshape(1005,150,150,3))"
      ],
      "execution_count": null,
      "outputs": []
    },
    {
      "cell_type": "code",
      "metadata": {
        "id": "vRQy166L75Vv"
      },
      "source": [
        "#Learning Rate Annealer\n",
        "\n",
        "lrr=tf.keras.callbacks.ReduceLROnPlateau(monitor='val_loss', factor=.01,paitence=10,min_lr=1e-5)"
      ],
      "execution_count": null,
      "outputs": []
    },
    {
      "cell_type": "code",
      "metadata": {
        "colab": {
          "base_uri": "https://localhost:8080/"
        },
        "id": "4m7_-wtpwmG2",
        "outputId": "50ca1b39-e65c-4235-fd47-f9d21268b879"
      },
      "source": [
        "y_train.shape"
      ],
      "execution_count": null,
      "outputs": [
        {
          "output_type": "execute_result",
          "data": {
            "text/plain": [
              "(1641, 12)"
            ]
          },
          "metadata": {},
          "execution_count": 17
        }
      ]
    },
    {
      "cell_type": "code",
      "metadata": {
        "id": "kPPgD6Ba8Px_"
      },
      "source": [
        "#Defining the VGG Convolutional Neural Net\n",
        "\n",
        "base_model = VGG19(include_top = False, weights = 'imagenet', input_shape = (150,150,3), classes = y_train.shape[1])"
      ],
      "execution_count": null,
      "outputs": []
    },
    {
      "cell_type": "code",
      "metadata": {
        "id": "fgjQDf7K8iSk"
      },
      "source": [
        "#Adding the final layers to the above base models where the actual classification is done in the dense layers\n",
        "\n",
        "model=Sequential()\n",
        "model.add(base_model)\n",
        "model.add(Flatten())"
      ],
      "execution_count": null,
      "outputs": []
    },
    {
      "cell_type": "code",
      "metadata": {
        "colab": {
          "base_uri": "https://localhost:8080/"
        },
        "id": "x9KTulql9Kcc",
        "outputId": "766c2599-e1de-4dde-8685-4c5f7bf4de1f"
      },
      "source": [
        "model.summary()"
      ],
      "execution_count": null,
      "outputs": [
        {
          "output_type": "stream",
          "name": "stdout",
          "text": [
            "Model: \"sequential\"\n",
            "_________________________________________________________________\n",
            " Layer (type)                Output Shape              Param #   \n",
            "=================================================================\n",
            " vgg19 (Functional)          (None, 4, 4, 512)         20024384  \n",
            "                                                                 \n",
            " flatten (Flatten)           (None, 8192)              0         \n",
            "                                                                 \n",
            "=================================================================\n",
            "Total params: 20,024,384\n",
            "Trainable params: 20,024,384\n",
            "Non-trainable params: 0\n",
            "_________________________________________________________________\n"
          ]
        }
      ]
    },
    {
      "cell_type": "code",
      "metadata": {
        "colab": {
          "base_uri": "https://localhost:8080/"
        },
        "id": "YGbrEssM9PJv",
        "outputId": "0911d5ab-dddf-490b-b14f-d96631cb2855"
      },
      "source": [
        "#Adding the Dense layers along with activation and batch normalisation\n",
        "\n",
        "model.add(Dense(1024,activation=(\"relu\"),input_dim=512))\n",
        "model.add(Dense(512,activation=('relu')))\n",
        "model.add(Dense(256,activation=('relu')))\n",
        "\n",
        "model.add(Dense(128,activation=('relu')))\n",
        "#model.add(Dense(10,activation=('softmax')))\n",
        "model.add(Dense(12,activation=('softmax')))\n",
        "\n",
        "#Checking the final model summary\n",
        "model.summary()"
      ],
      "execution_count": null,
      "outputs": [
        {
          "output_type": "stream",
          "name": "stdout",
          "text": [
            "Model: \"sequential\"\n",
            "_________________________________________________________________\n",
            " Layer (type)                Output Shape              Param #   \n",
            "=================================================================\n",
            " vgg19 (Functional)          (None, 4, 4, 512)         20024384  \n",
            "                                                                 \n",
            " flatten (Flatten)           (None, 8192)              0         \n",
            "                                                                 \n",
            " dense (Dense)               (None, 1024)              8389632   \n",
            "                                                                 \n",
            " dense_1 (Dense)             (None, 512)               524800    \n",
            "                                                                 \n",
            " dense_2 (Dense)             (None, 256)               131328    \n",
            "                                                                 \n",
            " dense_3 (Dense)             (None, 128)               32896     \n",
            "                                                                 \n",
            " dense_4 (Dense)             (None, 12)                1548      \n",
            "                                                                 \n",
            "=================================================================\n",
            "Total params: 29,104,588\n",
            "Trainable params: 29,104,588\n",
            "Non-trainable params: 0\n",
            "_________________________________________________________________\n"
          ]
        }
      ]
    },
    {
      "cell_type": "code",
      "metadata": {
        "colab": {
          "base_uri": "https://localhost:8080/"
        },
        "id": "W8hOhjXq_F9s",
        "outputId": "3ba9a3cf-c5e9-4e01-9f3e-d64c85702601"
      },
      "source": [
        "#initializing the hyperparameters\n",
        "\n",
        "batch_size=10\n",
        "epochs=20\n",
        "learn_rate=.001\n",
        "sgd=SGD(lr=learn_rate,momentum=.9,nesterov=False)\n",
        "adam=Adam(lr=learn_rate, beta_1=0.9, beta_2=0.999, epsilon=None, decay=0.0, amsgrad=False)\n",
        "model.compile(optimizer=sgd,loss='categorical_crossentropy',metrics=['accuracy'])\n",
        "model.summary()"
      ],
      "execution_count": null,
      "outputs": [
        {
          "output_type": "stream",
          "name": "stdout",
          "text": [
            "Model: \"sequential\"\n",
            "_________________________________________________________________\n",
            " Layer (type)                Output Shape              Param #   \n",
            "=================================================================\n",
            " vgg19 (Functional)          (None, 4, 4, 512)         20024384  \n",
            "                                                                 \n",
            " flatten (Flatten)           (None, 8192)              0         \n",
            "                                                                 \n",
            " dense (Dense)               (None, 1024)              8389632   \n",
            "                                                                 \n",
            " dense_1 (Dense)             (None, 512)               524800    \n",
            "                                                                 \n",
            " dense_2 (Dense)             (None, 256)               131328    \n",
            "                                                                 \n",
            " dense_3 (Dense)             (None, 128)               32896     \n",
            "                                                                 \n",
            " dense_4 (Dense)             (None, 12)                1548      \n",
            "                                                                 \n",
            "=================================================================\n",
            "Total params: 29,104,588\n",
            "Trainable params: 29,104,588\n",
            "Non-trainable params: 0\n",
            "_________________________________________________________________\n"
          ]
        },
        {
          "output_type": "stream",
          "name": "stderr",
          "text": [
            "/usr/local/lib/python3.7/dist-packages/keras/optimizer_v2/gradient_descent.py:102: UserWarning: The `lr` argument is deprecated, use `learning_rate` instead.\n",
            "  super(SGD, self).__init__(name, **kwargs)\n",
            "/usr/local/lib/python3.7/dist-packages/keras/optimizer_v2/adam.py:105: UserWarning: The `lr` argument is deprecated, use `learning_rate` instead.\n",
            "  super(Adam, self).__init__(name, **kwargs)\n"
          ]
        }
      ]
    },
    {
      "cell_type": "code",
      "metadata": {
        "colab": {
          "base_uri": "https://localhost:8080/"
        },
        "id": "qiPwv8UhAKB9",
        "outputId": "468e149f-d095-4b15-db14-ce4cfbec14f1"
      },
      "source": [
        "#Training the model\n",
        "model.fit_generator(train_generator.flow(x_train.reshape(1641,150,150,3), y_train, batch_size= batch_size),epochs = epochs, \n",
        "                    steps_per_epoch = x_train.shape[0]//batch_size,\n",
        "                    validation_data = val_generator.flow(x_val.reshape(704,150,150,3), y_val, batch_size = batch_size), \n",
        "                    validation_steps = 250,callbacks=[lrr], verbose = 1)"
      ],
      "execution_count": null,
      "outputs": [
        {
          "output_type": "stream",
          "name": "stderr",
          "text": [
            "/usr/local/lib/python3.7/dist-packages/ipykernel_launcher.py:5: UserWarning: `Model.fit_generator` is deprecated and will be removed in a future version. Please use `Model.fit`, which supports generators.\n",
            "  \"\"\"\n"
          ]
        },
        {
          "output_type": "stream",
          "name": "stdout",
          "text": [
            "Epoch 1/20\n",
            "164/164 [==============================] - ETA: 0s - loss: 1.7623 - accuracy: 0.4090WARNING:tensorflow:Your input ran out of data; interrupting training. Make sure that your dataset or generator can generate at least `steps_per_epoch * epochs` batches (in this case, 250 batches). You may need to use the repeat() function when building your dataset.\n",
            "164/164 [==============================] - 64s 318ms/step - loss: 1.7623 - accuracy: 0.4090 - val_loss: 1.2676 - val_accuracy: 0.5270 - lr: 0.0010\n",
            "Epoch 2/20\n",
            "164/164 [==============================] - ETA: 0s - loss: 0.9377 - accuracy: 0.6658WARNING:tensorflow:Learning rate reduction is conditioned on metric `val_loss` which is not available. Available metrics are: loss,accuracy,lr\n",
            "164/164 [==============================] - 41s 248ms/step - loss: 0.9377 - accuracy: 0.6658 - lr: 0.0010\n",
            "Epoch 3/20\n",
            "164/164 [==============================] - ETA: 0s - loss: 0.7825 - accuracy: 0.7535WARNING:tensorflow:Learning rate reduction is conditioned on metric `val_loss` which is not available. Available metrics are: loss,accuracy,lr\n",
            "164/164 [==============================] - 41s 249ms/step - loss: 0.7825 - accuracy: 0.7535 - lr: 0.0010\n",
            "Epoch 4/20\n",
            "164/164 [==============================] - ETA: 0s - loss: 0.5947 - accuracy: 0.8032WARNING:tensorflow:Learning rate reduction is conditioned on metric `val_loss` which is not available. Available metrics are: loss,accuracy,lr\n",
            "164/164 [==============================] - 41s 249ms/step - loss: 0.5947 - accuracy: 0.8032 - lr: 0.0010\n",
            "Epoch 5/20\n",
            "164/164 [==============================] - ETA: 0s - loss: 0.4240 - accuracy: 0.8627WARNING:tensorflow:Learning rate reduction is conditioned on metric `val_loss` which is not available. Available metrics are: loss,accuracy,lr\n",
            "164/164 [==============================] - 41s 249ms/step - loss: 0.4240 - accuracy: 0.8627 - lr: 0.0010\n",
            "Epoch 6/20\n",
            "164/164 [==============================] - ETA: 0s - loss: 0.4110 - accuracy: 0.8670WARNING:tensorflow:Learning rate reduction is conditioned on metric `val_loss` which is not available. Available metrics are: loss,accuracy,lr\n",
            "164/164 [==============================] - 41s 249ms/step - loss: 0.4110 - accuracy: 0.8670 - lr: 0.0010\n",
            "Epoch 7/20\n",
            "164/164 [==============================] - ETA: 0s - loss: 0.3440 - accuracy: 0.8939WARNING:tensorflow:Learning rate reduction is conditioned on metric `val_loss` which is not available. Available metrics are: loss,accuracy,lr\n",
            "164/164 [==============================] - 41s 250ms/step - loss: 0.3440 - accuracy: 0.8939 - lr: 0.0010\n",
            "Epoch 8/20\n",
            "164/164 [==============================] - ETA: 0s - loss: 0.3239 - accuracy: 0.8982WARNING:tensorflow:Learning rate reduction is conditioned on metric `val_loss` which is not available. Available metrics are: loss,accuracy,lr\n",
            "164/164 [==============================] - 41s 250ms/step - loss: 0.3239 - accuracy: 0.8982 - lr: 0.0010\n",
            "Epoch 9/20\n",
            "164/164 [==============================] - ETA: 0s - loss: 0.2947 - accuracy: 0.9062WARNING:tensorflow:Learning rate reduction is conditioned on metric `val_loss` which is not available. Available metrics are: loss,accuracy,lr\n",
            "164/164 [==============================] - 41s 250ms/step - loss: 0.2947 - accuracy: 0.9062 - lr: 0.0010\n",
            "Epoch 10/20\n",
            "164/164 [==============================] - ETA: 0s - loss: 0.2212 - accuracy: 0.9295WARNING:tensorflow:Learning rate reduction is conditioned on metric `val_loss` which is not available. Available metrics are: loss,accuracy,lr\n",
            "164/164 [==============================] - 41s 249ms/step - loss: 0.2212 - accuracy: 0.9295 - lr: 0.0010\n",
            "Epoch 11/20\n",
            "164/164 [==============================] - ETA: 0s - loss: 0.3734 - accuracy: 0.8964WARNING:tensorflow:Learning rate reduction is conditioned on metric `val_loss` which is not available. Available metrics are: loss,accuracy,lr\n",
            "164/164 [==============================] - 41s 249ms/step - loss: 0.3734 - accuracy: 0.8964 - lr: 0.0010\n",
            "Epoch 12/20\n",
            "164/164 [==============================] - ETA: 0s - loss: 0.3321 - accuracy: 0.8890WARNING:tensorflow:Learning rate reduction is conditioned on metric `val_loss` which is not available. Available metrics are: loss,accuracy,lr\n",
            "164/164 [==============================] - 41s 250ms/step - loss: 0.3321 - accuracy: 0.8890 - lr: 0.0010\n",
            "Epoch 13/20\n",
            "164/164 [==============================] - ETA: 0s - loss: 0.2033 - accuracy: 0.9319WARNING:tensorflow:Learning rate reduction is conditioned on metric `val_loss` which is not available. Available metrics are: loss,accuracy,lr\n",
            "164/164 [==============================] - 41s 250ms/step - loss: 0.2033 - accuracy: 0.9319 - lr: 0.0010\n",
            "Epoch 14/20\n",
            "164/164 [==============================] - ETA: 0s - loss: 0.2147 - accuracy: 0.9338WARNING:tensorflow:Learning rate reduction is conditioned on metric `val_loss` which is not available. Available metrics are: loss,accuracy,lr\n",
            "164/164 [==============================] - 41s 250ms/step - loss: 0.2147 - accuracy: 0.9338 - lr: 0.0010\n",
            "Epoch 15/20\n",
            "164/164 [==============================] - ETA: 0s - loss: 0.1541 - accuracy: 0.9436WARNING:tensorflow:Learning rate reduction is conditioned on metric `val_loss` which is not available. Available metrics are: loss,accuracy,lr\n",
            "164/164 [==============================] - 41s 250ms/step - loss: 0.1541 - accuracy: 0.9436 - lr: 0.0010\n",
            "Epoch 16/20\n",
            "164/164 [==============================] - ETA: 0s - loss: 0.1854 - accuracy: 0.9387WARNING:tensorflow:Learning rate reduction is conditioned on metric `val_loss` which is not available. Available metrics are: loss,accuracy,lr\n",
            "164/164 [==============================] - 41s 249ms/step - loss: 0.1854 - accuracy: 0.9387 - lr: 0.0010\n",
            "Epoch 17/20\n",
            "164/164 [==============================] - ETA: 0s - loss: 0.1791 - accuracy: 0.9415WARNING:tensorflow:Learning rate reduction is conditioned on metric `val_loss` which is not available. Available metrics are: loss,accuracy,lr\n",
            "164/164 [==============================] - 41s 251ms/step - loss: 0.1791 - accuracy: 0.9415 - lr: 0.0010\n",
            "Epoch 18/20\n",
            "164/164 [==============================] - ETA: 0s - loss: 0.0979 - accuracy: 0.9687WARNING:tensorflow:Learning rate reduction is conditioned on metric `val_loss` which is not available. Available metrics are: loss,accuracy,lr\n",
            "164/164 [==============================] - 41s 250ms/step - loss: 0.0979 - accuracy: 0.9687 - lr: 0.0010\n",
            "Epoch 19/20\n",
            "164/164 [==============================] - ETA: 0s - loss: 0.1420 - accuracy: 0.9552WARNING:tensorflow:Learning rate reduction is conditioned on metric `val_loss` which is not available. Available metrics are: loss,accuracy,lr\n",
            "164/164 [==============================] - 41s 249ms/step - loss: 0.1420 - accuracy: 0.9552 - lr: 0.0010\n",
            "Epoch 20/20\n",
            "164/164 [==============================] - ETA: 0s - loss: 0.0658 - accuracy: 0.9810WARNING:tensorflow:Learning rate reduction is conditioned on metric `val_loss` which is not available. Available metrics are: loss,accuracy,lr\n",
            "164/164 [==============================] - 41s 250ms/step - loss: 0.0658 - accuracy: 0.9810 - lr: 0.0010\n"
          ]
        },
        {
          "output_type": "execute_result",
          "data": {
            "text/plain": [
              "<keras.callbacks.History at 0x7f53d02f3950>"
            ]
          },
          "metadata": {},
          "execution_count": 23
        }
      ]
    },
    {
      "cell_type": "code",
      "metadata": {
        "id": "NrZCaHRonGIx"
      },
      "source": [
        ""
      ],
      "execution_count": null,
      "outputs": []
    },
    {
      "cell_type": "code",
      "metadata": {
        "colab": {
          "base_uri": "https://localhost:8080/"
        },
        "id": "brKICcTwQ9CI",
        "outputId": "36895e79-e50e-4fff-8286-f0c1e745a542"
      },
      "source": [
        "#Making prediction\n",
        "#y_pred=model.predict_classes(x_test.reshape(596,150,150,3))\n",
        "#y_true=np.argmax(y_test,axis=1)\n",
        "#y_pred\n",
        "predict_x=model.predict(x_test.reshape(1005,150,150,3)) \n",
        "y_pred=np.argmax(predict_x,axis=1)\n",
        "y_true=np.argmax(y_test,axis=1)\n",
        "y_pred\n",
        "import sklearn\n",
        "acc = sklearn.metrics.accuracy_score(np.array(y_true), \n",
        "                                     np.array(y_pred))\n",
        "print(acc)"
      ],
      "execution_count": null,
      "outputs": [
        {
          "output_type": "stream",
          "name": "stdout",
          "text": [
            "0.9263681592039801\n"
          ]
        }
      ]
    },
    {
      "cell_type": "code",
      "metadata": {
        "id": "7OfZzQ1N4Ao1"
      },
      "source": [
        "model.save('Model.hdf5')"
      ],
      "execution_count": null,
      "outputs": []
    },
    {
      "cell_type": "code",
      "metadata": {
        "colab": {
          "base_uri": "https://localhost:8080/",
          "height": 324
        },
        "id": "uXn39J5lYY8Y",
        "outputId": "d28a88c5-4893-42ea-f695-3d296037e0b9"
      },
      "source": [
        "#Testing a brand new Image\n",
        "flat_data=[]\n",
        "url=input(\"Enter your URL:\")\n",
        "img=imread(url)\n",
        "img_resized=resize(img,(150,150,3))\n",
        "flat_data.append(img_resized.flatten())\n",
        "flat_data=np.array(flat_data)\n",
        "\n",
        "print(img.shape)\n",
        "plt.imshow(img_resized)\n",
        "#y_out=model.predict_classes(flat_data.reshape(1,150,150,3))\n",
        "#np.array(y_out)\n",
        "#y=CATEGORIES[y_out[0]]\n",
        "#print(f'PREDICTED OUTPUT: {y}')\n",
        "predict_x=model.predict(flat_data.reshape(1,150,150,3)) \n",
        "y_out=np.argmax(predict_x,axis=1)\n",
        "np.array(y_out)\n",
        "y=CATEGORIES[y_out[0]]\n",
        "print(f'PREDICTED OUTPUT: {y}')"
      ],
      "execution_count": 71,
      "outputs": [
        {
          "output_type": "stream",
          "name": "stdout",
          "text": [
            "Enter your URL:https://akm-img-a-in.tosshub.com/indiatoday/images/photogallery/202103/tulipss__5__1200x768.jpeg?mxoqoMtvc9tmQGbhinyzd4dAHV6DHgpT&size=1200:675\n",
            "(675, 1200, 3)\n",
            "PREDICTED OUTPUT: tulip\n"
          ]
        },
        {
          "output_type": "display_data",
          "data": {
            "image/png": "[encoded data removed]",
            "text/plain": [
              "<Figure size 432x288 with 1 Axes>"
            ]
          },
          "metadata": {
            "needs_background": "light"
          }
        }
      ]
    }
  ]
}